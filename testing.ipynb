{
 "cells": [
  {
   "cell_type": "code",
   "execution_count": 1,
   "metadata": {},
   "outputs": [
    {
     "name": "stderr",
     "output_type": "stream",
     "text": [
      "<>:8: SyntaxWarning: invalid escape sequence '\\D'\n",
      "<>:8: SyntaxWarning: invalid escape sequence '\\D'\n",
      "C:\\Users\\SCAIPL\\AppData\\Local\\Temp\\ipykernel_13592\\1401034330.py:8: SyntaxWarning: invalid escape sequence '\\D'\n",
      "  scaler = joblib.load(\"C:\\\\Users\\\\SCAIPL\\Desktop\\\\Music Classifier\\\\Data\\\\scaler.pkl\")\n"
     ]
    }
   ],
   "source": [
    "import joblib\n",
    "import librosa\n",
    "import numpy as np\n",
    "import pandas as pd\n",
    "\n",
    "# Load the saved model and objects\n",
    "model = joblib.load(\"C:\\\\Users\\\\SCAIPL\\\\Desktop\\\\Music Classifier\\\\Data\\\\genre_classifier_model.pkl\")\n",
    "scaler = joblib.load(\"C:\\\\Users\\\\SCAIPL\\Desktop\\\\Music Classifier\\\\Data\\\\scaler.pkl\")\n",
    "label_encoder = joblib.load(\"C:\\\\Users\\\\SCAIPL\\\\Desktop\\\\Music Classifier\\\\Data\\\\label_encoder.pkl\")"
   ]
  },
  {
   "cell_type": "code",
   "execution_count": 2,
   "metadata": {},
   "outputs": [],
   "source": [
    "def extract_features(file_path):\n",
    "    # Load the audio file\n",
    "    y, sr = librosa.load(file_path, mono=True, duration=30)\n",
    "    \n",
    "    # Extract features (this should match the features in your CSV)\n",
    "    chroma_stft_mean = np.mean(librosa.feature.chroma_stft(y=y, sr=sr))\n",
    "    rms_mean = np.mean(librosa.feature.rms(y=y))\n",
    "    spec_cent_mean = np.mean(librosa.feature.spectral_centroid(y=y, sr=sr))\n",
    "    spec_bw_mean = np.mean(librosa.feature.spectral_bandwidth(y=y, sr=sr))\n",
    "    rolloff_mean = np.mean(librosa.feature.spectral_rolloff(y=y, sr=sr))\n",
    "    zcr_mean = np.mean(librosa.feature.zero_crossing_rate(y))\n",
    "    mfccs = librosa.feature.mfcc(y=y, sr=sr)\n",
    "    mfccs_mean = [np.mean(e) for e in mfccs]\n",
    "    \n",
    "    # Combine all features into a single list or array\n",
    "    # The order MUST be the same as your training data's columns\n",
    "    features = [chroma_stft_mean, rms_mean, spec_cent_mean, spec_bw_mean, \n",
    "                rolloff_mean, zcr_mean] + mfccs_mean\n",
    "                \n",
    "    # This is a simplified example; you need to extract all 58 features \n",
    "    # from your original dataset (means and variances) and put them in the \n",
    "    # correct order here.\n",
    "    \n",
    "    # Returning as a DataFrame to easily see feature names (optional)\n",
    "    # The columns must match the training data columns exactly\n",
    "    feature_names = ['chroma_stft_mean', 'rms_mean', 'spectral_centroid_mean', \n",
    "                     'spectral_bandwidth_mean', 'rolloff_mean', 'zero_crossing_rate_mean'] + \\\n",
    "                    [f'mfcc{i+1}_mean' for i in range(20)]\n",
    "    \n",
    "    # Note: This example only extracts the 26 'mean' features. You'd also need to\n",
    "    # calculate and add the 26 'var' (variance) features to match your original data.\n",
    "    \n",
    "    # For now, let's create a placeholder for a single prediction row\n",
    "    # You will need to replace this with the full feature extraction logic.\n",
    "    # For demonstration, we create a dummy array of the correct shape.\n",
    "    num_features = 58 # The number of feature columns in your original X\n",
    "    extracted_features = np.random.rand(num_features) # Replace with your actual features\n",
    "    \n",
    "    return extracted_features.reshape(1, -1) # Reshape for a single prediction\n"
   ]
  },
  {
   "cell_type": "code",
   "execution_count": 3,
   "metadata": {},
   "outputs": [
    {
     "name": "stdout",
     "output_type": "stream",
     "text": [
      "The predicted genre for the song is: pop\n"
     ]
    }
   ],
   "source": [
    "# Path to the new song you want to classify\n",
    "audio_file = \"C:\\\\Users\\\\SCAIPL\\\\Downloads\\\\file_example_WAV_1MG.wav\" \n",
    "\n",
    "# 1. Extract features from the new audio file\n",
    "#    (Using the dummy function for now, you will replace it)\n",
    "new_song_features = extract_features(audio_file)\n",
    "\n",
    "# 2. Scale the features using the *same* scaler from training\n",
    "new_song_features_scaled = scaler.transform(new_song_features)\n",
    "\n",
    "# 3. Make the prediction\n",
    "prediction_numerical = model.predict(new_song_features_scaled)\n",
    "\n",
    "# 4. Convert the numerical prediction back to the genre name\n",
    "prediction_genre = label_encoder.inverse_transform(prediction_numerical)\n",
    "\n",
    "print(f\"The predicted genre for the song is: {prediction_genre[0]}\")"
   ]
  },
  {
   "cell_type": "code",
   "execution_count": null,
   "metadata": {},
   "outputs": [],
   "source": []
  },
  {
   "cell_type": "code",
   "execution_count": null,
   "metadata": {},
   "outputs": [],
   "source": []
  }
 ],
 "metadata": {
  "kernelspec": {
   "display_name": "Faiths_env",
   "language": "python",
   "name": "python3"
  },
  "language_info": {
   "codemirror_mode": {
    "name": "ipython",
    "version": 3
   },
   "file_extension": ".py",
   "mimetype": "text/x-python",
   "name": "python",
   "nbconvert_exporter": "python",
   "pygments_lexer": "ipython3",
   "version": "3.13.5"
  }
 },
 "nbformat": 4,
 "nbformat_minor": 2
}
